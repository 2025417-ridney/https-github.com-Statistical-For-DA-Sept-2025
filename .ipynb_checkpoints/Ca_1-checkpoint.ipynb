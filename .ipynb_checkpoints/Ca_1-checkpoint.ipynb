{
 "cells": [
  {
   "cell_type": "markdown",
   "id": "944c5c87-f6fa-43aa-8ee9-9b5fe9a2e145",
   "metadata": {},
   "source": [
    "# CA -Statistics for Data Analysis"
   ]
  },
  {
   "cell_type": "code",
   "execution_count": 5,
   "id": "cbf837f8-acfb-4f0c-9486-d482c3b5a077",
   "metadata": {},
   "outputs": [],
   "source": [
    "# Importing the libraries\n",
    "import numpy as np\n",
    "import pandas as pd\n",
    "import warnings\n",
    "\n",
    "warnings.filterwarnings('ignore')"
   ]
  },
  {
   "cell_type": "markdown",
   "id": "910b55d0-c14b-4dcc-afcd-24f4d72674ba",
   "metadata": {},
   "source": [
    "# Importing Dataset"
   ]
  },
  {
   "cell_type": "code",
   "execution_count": 6,
   "id": "e7b1020c-9be9-486a-9fa2-b2f1b5c404c4",
   "metadata": {},
   "outputs": [],
   "source": [
    "# Importing the dataset\n",
    "dataset = pd.read_csv('dataset.csv')"
   ]
  },
  {
   "cell_type": "code",
   "execution_count": 7,
   "id": "ce28415d-2cf0-4cfc-a9d7-12d3e66f2019",
   "metadata": {
    "scrolled": true
   },
   "outputs": [
    {
     "data": {
      "text/html": [
       "<div>\n",
       "<style scoped>\n",
       "    .dataframe tbody tr th:only-of-type {\n",
       "        vertical-align: middle;\n",
       "    }\n",
       "\n",
       "    .dataframe tbody tr th {\n",
       "        vertical-align: top;\n",
       "    }\n",
       "\n",
       "    .dataframe thead th {\n",
       "        text-align: right;\n",
       "    }\n",
       "</style>\n",
       "<table border=\"1\" class=\"dataframe\">\n",
       "  <thead>\n",
       "    <tr style=\"text-align: right;\">\n",
       "      <th></th>\n",
       "      <th>Diet -Group (D) = [4.2</th>\n",
       "      <th>6.0</th>\n",
       "      <th>7.1</th>\n",
       "      <th>6.1</th>\n",
       "      <th>4.9</th>\n",
       "      <th>5.8</th>\n",
       "      <th>6.7</th>\n",
       "      <th>6.0.1</th>\n",
       "      <th>7.2</th>\n",
       "      <th>4.4</th>\n",
       "      <th>6.0.2</th>\n",
       "      <th>5.3</th>\n",
       "      <th>7.1.1</th>\n",
       "      <th>6.5</th>\n",
       "      <th>5.6]</th>\n",
       "    </tr>\n",
       "  </thead>\n",
       "  <tbody>\n",
       "    <tr>\n",
       "      <th>0</th>\n",
       "      <td>Exercise-Group (E) = [3.7</td>\n",
       "      <td>4.1</td>\n",
       "      <td>5.9</td>\n",
       "      <td>4.4</td>\n",
       "      <td>5.0</td>\n",
       "      <td>4.7</td>\n",
       "      <td>5.9</td>\n",
       "      <td>4.2</td>\n",
       "      <td>5.5</td>\n",
       "      <td>3.7</td>\n",
       "      <td>4.6</td>\n",
       "      <td>4.8</td>\n",
       "      <td>4.4</td>\n",
       "      <td>5.9</td>\n",
       "      <td>4.0]</td>\n",
       "    </tr>\n",
       "  </tbody>\n",
       "</table>\n",
       "</div>"
      ],
      "text/plain": [
       "      Diet -Group (D) = [4.2   6.0   7.1   6.1   4.9   5.8   6.7   6.0.1  \\\n",
       "0  Exercise-Group (E) = [3.7   4.1   5.9   4.4   5.0   4.7   5.9     4.2   \n",
       "\n",
       "    7.2   4.4   6.0.2   5.3   7.1.1   6.5   5.6]  \n",
       "0   5.5   3.7     4.6   4.8     4.4   5.9   4.0]  "
      ]
     },
     "execution_count": 7,
     "metadata": {},
     "output_type": "execute_result"
    }
   ],
   "source": [
    "# Loking at the dataset\n",
    "dataset.head()"
   ]
  },
  {
   "cell_type": "code",
   "execution_count": 8,
   "id": "3e9b2493-4fc2-4c98-9314-7e0c36719318",
   "metadata": {},
   "outputs": [
    {
     "data": {
      "text/plain": [
       "<bound method DataFrame.info of       Diet -Group (D) = [4.2   6.0   7.1   6.1   4.9   5.8   6.7   6.0.1  \\\n",
       "0  Exercise-Group (E) = [3.7   4.1   5.9   4.4   5.0   4.7   5.9     4.2   \n",
       "\n",
       "    7.2   4.4   6.0.2   5.3   7.1.1   6.5   5.6]  \n",
       "0   5.5   3.7     4.6   4.8     4.4   5.9   4.0]  >"
      ]
     },
     "execution_count": 8,
     "metadata": {},
     "output_type": "execute_result"
    }
   ],
   "source": [
    "dataset.info"
   ]
  },
  {
   "cell_type": "code",
   "execution_count": 9,
   "id": "ef49eefb-a368-4200-8f20-9985c2de4e9f",
   "metadata": {},
   "outputs": [
    {
     "data": {
      "text/plain": [
       "Index(['Diet -Group (D) = [4.2', ' 6.0', ' 7.1', ' 6.1', ' 4.9', ' 5.8',\n",
       "       ' 6.7', ' 6.0.1', ' 7.2', ' 4.4', ' 6.0.2', ' 5.3', ' 7.1.1', ' 6.5',\n",
       "       ' 5.6]'],\n",
       "      dtype='object')"
      ]
     },
     "execution_count": 9,
     "metadata": {},
     "output_type": "execute_result"
    }
   ],
   "source": [
    "dataset.columns"
   ]
  },
  {
   "cell_type": "markdown",
   "id": "926f9028-4b62-4a24-8860-650a2f2aaec6",
   "metadata": {},
   "source": [
    "# Define Features Data Preparation"
   ]
  },
  {
   "cell_type": "markdown",
   "id": "14d21cd7-7b85-4001-b946-77ceeb14f93e",
   "metadata": {},
   "source": [
    "# Make Predictions"
   ]
  }
 ],
 "metadata": {
  "kernelspec": {
   "display_name": "Python 3 (ipykernel)",
   "language": "python",
   "name": "python3"
  },
  "language_info": {
   "codemirror_mode": {
    "name": "ipython",
    "version": 3
   },
   "file_extension": ".py",
   "mimetype": "text/x-python",
   "name": "python",
   "nbconvert_exporter": "python",
   "pygments_lexer": "ipython3",
   "version": "3.13.5"
  }
 },
 "nbformat": 4,
 "nbformat_minor": 5
}
