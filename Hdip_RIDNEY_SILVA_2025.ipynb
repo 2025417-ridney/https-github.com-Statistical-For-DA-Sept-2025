{
 "cells": [
  {
   "cell_type": "markdown",
   "id": "944c5c87-f6fa-43aa-8ee9-9b5fe9a2e145",
   "metadata": {},
   "source": [
    "# CA -Statistics for Data Analysis"
   ]
  },
  {
   "cell_type": "code",
   "execution_count": 1,
   "id": "cbf837f8-acfb-4f0c-9486-d482c3b5a077",
   "metadata": {},
   "outputs": [],
   "source": [
    "# Importing the libraries\n",
    "import numpy as np\n",
    "import pandas as pd\n",
    "import warnings\n",
    "\n",
    "warnings.filterwarnings('ignore')"
   ]
  },
  {
   "cell_type": "markdown",
   "id": "910b55d0-c14b-4dcc-afcd-24f4d72674ba",
   "metadata": {},
   "source": [
    "# Dataset"
   ]
  },
  {
   "cell_type": "code",
   "execution_count": 2,
   "id": "851ecbfc-d632-485b-adab-cdbe80e15cb7",
   "metadata": {},
   "outputs": [],
   "source": [
    "d = {'Diet-Group(D):': pd.Series([4.2, 6.0, 7.1, 6.1, 4.9, 5.8, 6.7, 6.0, 7.2, 4.4, 6.0, 5.3, 7.1, 6.5, 5.6]), 'Exercise-Group(E):': pd.Series([3.7, 4.1, 5.9, 4.4, 5.0, 4.7, 5.9, 4.2, 5.5, 3.7, 4.6, 4.8, 4.4, 5.9, 4.0]) }"
   ]
  },
  {
   "cell_type": "markdown",
   "id": "55a5feeb-20cb-45b3-add9-d1fe1c01d2a9",
   "metadata": {},
   "source": [
    "# 1. Central tendency measure, variability measure"
   ]
  },
  {
   "cell_type": "code",
   "execution_count": 3,
   "id": "40aaa697-f6cc-43e4-aaed-677547f6707d",
   "metadata": {},
   "outputs": [
    {
     "name": "stdout",
     "output_type": "stream",
     "text": [
      "Mean Value \n",
      " Diet-Group(D):        5.926667\n",
      "Exercise-Group(E):    4.720000\n",
      "dtype: float64 \n",
      "\n",
      " Median Value: \n",
      " Diet-Group(D):        6.0\n",
      "Exercise-Group(E):    4.6\n",
      "dtype: float64 \n",
      "\n",
      " Mode:    Diet-Group(D):  Exercise-Group(E):\n",
      "0             6.0                 5.9 \n",
      "\n"
     ]
    }
   ],
   "source": [
    "df = pd.DataFrame(d)\n",
    "print(\"Mean Value\",'\\n', df.mean(),'\\n' '\\n', \"Median Value:\",'\\n', df.median(), '\\n' '\\n', \"Mode:\", df.mode(), '\\n' )"
   ]
  },
  {
   "cell_type": "code",
   "execution_count": 4,
   "id": "3e9b2493-4fc2-4c98-9314-7e0c36719318",
   "metadata": {},
   "outputs": [
    {
     "name": "stdout",
     "output_type": "stream",
     "text": [
      "standard deviation: \n",
      " Diet-Group(D):        0.934625\n",
      "Exercise-Group(E):    0.772010\n",
      "dtype: float64\n"
     ]
    }
   ],
   "source": [
    "print(\"standard deviation:\",'\\n',df.std())"
   ]
  },
  {
   "cell_type": "code",
   "execution_count": 8,
   "id": "14679474-220e-4e6c-b2de-517dc221ee9b",
   "metadata": {},
   "outputs": [
    {
     "ename": "NameError",
     "evalue": "name 'variance' is not defined",
     "output_type": "error",
     "traceback": [
      "\u001b[1;31m---------------------------------------------------------------------------\u001b[0m",
      "\u001b[1;31mNameError\u001b[0m                                 Traceback (most recent call last)",
      "Cell \u001b[1;32mIn[8], line 1\u001b[0m\n\u001b[1;32m----> 1\u001b[0m variance(df)\n",
      "\u001b[1;31mNameError\u001b[0m: name 'variance' is not defined"
     ]
    }
   ],
   "source": [
    "variance(df)"
   ]
  },
  {
   "cell_type": "code",
   "execution_count": null,
   "id": "ce28415d-2cf0-4cfc-a9d7-12d3e66f2019",
   "metadata": {
    "scrolled": true
   },
   "outputs": [],
   "source": [
    "# Loking at the dataset\n",
    "df.head() #first 5 rows "
   ]
  },
  {
   "cell_type": "markdown",
   "id": "926f9028-4b62-4a24-8860-650a2f2aaec6",
   "metadata": {},
   "source": [
    "# Define Features Data Preparation"
   ]
  },
  {
   "cell_type": "markdown",
   "id": "14d21cd7-7b85-4001-b946-77ceeb14f93e",
   "metadata": {},
   "source": [
    "# Make Predictions"
   ]
  }
 ],
 "metadata": {
  "kernelspec": {
   "display_name": "Python 3 (ipykernel)",
   "language": "python",
   "name": "python3"
  },
  "language_info": {
   "codemirror_mode": {
    "name": "ipython",
    "version": 3
   },
   "file_extension": ".py",
   "mimetype": "text/x-python",
   "name": "python",
   "nbconvert_exporter": "python",
   "pygments_lexer": "ipython3",
   "version": "3.13.5"
  }
 },
 "nbformat": 4,
 "nbformat_minor": 5
}
